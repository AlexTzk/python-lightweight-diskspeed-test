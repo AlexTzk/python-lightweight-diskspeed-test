{
 "cells": [
  {
   "cell_type": "code",
   "execution_count": null,
   "id": "a81a943f-f1a3-4623-9768-d19b66c37b56",
   "metadata": {},
   "outputs": [],
   "source": [
    "import os\n",
    "import time\n",
    "\n",
    "def test_write_speed(file_path, file_size_mb=1000):\n",
    "    data_size_bytes = file_size_mb * 1024 * 1024\n",
    "    data = os.urandom(data_size_bytes)\n",
    "\n",
    "    start_time = time.time()\n",
    "    with open(file_path, 'wb') as f:\n",
    "        f.write(data)\n",
    "    end_time = time.time()\n",
    "\n",
    "    elapsed = end_time - start_time\n",
    "    mb_per_second = file_size_mb / elapsed\n",
    "    return mb_per_second\n",
    "\n",
    "def test_read_speed(file_path):\n",
    "    file_size_bytes = os.path.getsize(file_path)\n",
    "    file_size_mb = file_size_bytes / (1024 * 1024)\n",
    "\n",
    "    start_time = time.time()\n",
    "    with open(file_path, 'rb') as f:\n",
    "        _ = f.read()\n",
    "    end_time = time.time()\n",
    "\n",
    "    elapsed = end_time - start_time\n",
    "    mb_per_second = file_size_mb / elapsed\n",
    "    return mb_per_second\n",
    "\n",
    "def main():\n",
    "    test_file = \"disk_speed_test.tmp\"\n",
    "    file_size_mb = 1000  # Adjust this value if you want a larger or smaller test file\n",
    "    \n",
    "    try:\n",
    "        print(f\"Creating and writing a {file_size_mb} MB file to measure write speed...\")\n",
    "        write_speed = test_write_speed(test_file, file_size_mb)\n",
    "        print(f\"Write Speed: {write_speed:.2f} MB/s\\n\")\n",
    "\n",
    "        print(\"Reading the file to measure read speed...\")\n",
    "        read_speed = test_read_speed(test_file)\n",
    "        print(f\"Read Speed: {read_speed:.2f} MB/s\\n\")\n",
    "\n",
    "    finally:\n",
    "        # Clean up the temporary file\n",
    "        if os.path.exists(test_file):\n",
    "            os.remove(test_file)\n",
    "\n",
    "if __name__ == \"__main__\":\n",
    "    main()\n"
   ]
  }
 ],
 "metadata": {
  "kernelspec": {
   "display_name": "Python 3 (ipykernel)",
   "language": "python",
   "name": "python3"
  },
  "language_info": {
   "codemirror_mode": {
    "name": "ipython",
    "version": 3
   },
   "file_extension": ".py",
   "mimetype": "text/x-python",
   "name": "python",
   "nbconvert_exporter": "python",
   "pygments_lexer": "ipython3",
   "version": "3.10.11"
  }
 },
 "nbformat": 4,
 "nbformat_minor": 5
}
